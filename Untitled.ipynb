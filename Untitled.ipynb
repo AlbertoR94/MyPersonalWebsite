{
 "cells": [
  {
   "cell_type": "code",
   "execution_count": 3,
   "id": "21c85762-f24d-4958-af2e-ada78de80751",
   "metadata": {},
   "outputs": [],
   "source": [
    "import streamlit as st\n",
    "import torch"
   ]
  },
  {
   "cell_type": "code",
   "execution_count": 2,
   "id": "f5d52af3-763c-4a0f-812c-6172e4a98f23",
   "metadata": {},
   "outputs": [
    {
     "data": {
      "text/plain": [
       "'1.28.2'"
      ]
     },
     "execution_count": 2,
     "metadata": {},
     "output_type": "execute_result"
    }
   ],
   "source": [
    "st.__version__"
   ]
  },
  {
   "cell_type": "code",
   "execution_count": 4,
   "id": "d8c25c92-0b81-4039-9ab5-f5f1961575b4",
   "metadata": {},
   "outputs": [
    {
     "data": {
      "text/plain": [
       "'2.1.1'"
      ]
     },
     "execution_count": 4,
     "metadata": {},
     "output_type": "execute_result"
    }
   ],
   "source": [
    "torch.__version__"
   ]
  },
  {
   "cell_type": "code",
   "execution_count": null,
   "id": "ec7771a7-83d9-47bb-99b3-4e8e28162fa3",
   "metadata": {},
   "outputs": [],
   "source": []
  }
 ],
 "metadata": {
  "kernelspec": {
   "display_name": "Python 3 (ipykernel)",
   "language": "python",
   "name": "python3"
  },
  "language_info": {
   "codemirror_mode": {
    "name": "ipython",
    "version": 3
   },
   "file_extension": ".py",
   "mimetype": "text/x-python",
   "name": "python",
   "nbconvert_exporter": "python",
   "pygments_lexer": "ipython3",
   "version": "3.11.5"
  }
 },
 "nbformat": 4,
 "nbformat_minor": 5
}
